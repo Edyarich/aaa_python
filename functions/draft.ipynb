{
 "cells": [
  {
   "cell_type": "code",
   "execution_count": 12,
   "metadata": {
    "collapsed": true,
    "pycharm": {
     "name": "#%%\n"
    }
   },
   "outputs": [],
   "source": [
    "import csv\n",
    "import pandas as pd\n",
    "from typing import *\n",
    "\n",
    "from typing import Tuple"
   ]
  },
  {
   "cell_type": "code",
   "execution_count": 15,
   "outputs": [],
   "source": [
    "def read_csv(filename: str, **csv_options) -> List[List[str]]:\n",
    "    with open(filename, 'r') as fd:\n",
    "        reader = csv.reader(fd, **csv_options)\n",
    "        data_read = [row for row in reader]\n",
    "\n",
    "    return data_read\n",
    "\n",
    "\n",
    "def write_csv(filename: str, data: List[List[Any]], **csv_options) -> None:\n",
    "    with open(filename, 'wt') as fd:\n",
    "        writer = csv.writer(fd, **csv_options)\n",
    "        writer.writerows(data)\n",
    "\n",
    "\n",
    "def split_df(df: List[List[str]]) -> Tuple[Dict[str, int], List[List[str]]]:\n",
    "    header = dict(zip(df[0], range(len(df[0]))))\n",
    "    df = df[1:]\n",
    "\n",
    "    return header, df\n",
    "\n",
    "\n",
    "def convert_types(df: List[List[str]], type_arr: Tuple[TypeVar]) -> None:\n",
    "    for df_row in df:\n",
    "        for i in range(len(df_row)):\n",
    "            df_row[i] = type_arr[i](df_row[i])\n",
    "\n",
    "\n",
    "def get_department_structure(df: List[List[Any]], header: Dict[str, int]) -> Dict[str, Set[str]]:\n",
    "    departments_and_teams = dict()\n",
    "    dep_ind = header['Департамент']\n",
    "    team_ind = header['Отдел']\n",
    "\n",
    "    for df_row in df:\n",
    "        department = df_row[dep_ind]\n",
    "        team = df_row[team_ind]\n",
    "\n",
    "        if departments_and_teams.get(department) is None:\n",
    "            departments_and_teams[department] = set()\n",
    "\n",
    "        if team not in departments_and_teams[department]:\n",
    "            departments_and_teams[department].add(team)\n",
    "\n",
    "    return departments_and_teams\n",
    "\n",
    "\n",
    "def print_department_structure(dep_structure: Dict[str, Set[str]]) -> None:\n",
    "    for department, teams in dep_structure.items():\n",
    "        print(department, end=': ')\n",
    "\n",
    "        for i, team in enumerate(teams):\n",
    "            if i == 0:\n",
    "                print(team)\n",
    "            else:\n",
    "                print(' ' * (len(department)+1), team)\n",
    "\n",
    "\n",
    "def get_department_report(df: List[List[Any]], header: Dict[str, int]) -> Dict[str, Dict[str, int]]:\n",
    "    departments_and_info = dict()\n",
    "    dep_ind = header['Департамент']\n",
    "    salary_ind = header['Оклад']\n",
    "    def_info = {'count': 0,\n",
    "                'min': float('inf'),\n",
    "                'max': float('-inf'),\n",
    "                'avg': 0}\n",
    "\n",
    "    for df_row in df:\n",
    "        department = df_row[dep_ind]\n",
    "        salary = df_row[salary_ind]\n",
    "\n",
    "        if departments_and_info.get(department) is None:\n",
    "            departments_and_info[department] = def_info.copy()\n",
    "\n",
    "        departments_and_info[department]['count'] += 1\n",
    "        departments_and_info[department]['avg'] += salary\n",
    "        departments_and_info[department]['min'] = \\\n",
    "            min(salary, departments_and_info[department]['min'])\n",
    "        departments_and_info[department]['max'] = \\\n",
    "            max(salary, departments_and_info[department]['max'])\n",
    "\n",
    "    for department in departments_and_info.keys():\n",
    "        dep_size = departments_and_info[department]['count']\n",
    "        departments_and_info[department]['avg'] /= dep_size\n",
    "\n",
    "    return departments_and_info\n",
    "\n",
    "\n",
    "def print_department_report(report: Dict[str, Dict[str, int]]) -> None:\n",
    "    if len(report) == 0:\n",
    "        return\n",
    "\n",
    "    header = list(report.values())[0].keys()\n",
    "    header_format_str = '{:<32} {:<8} {:<16} {:<16} {:<16}'\n",
    "    format_str = '{:<32} {:<8} {:<16} {:<16} {:.1f}'\n",
    "\n",
    "    print(header_format_str.format('Department', *header))\n",
    "    for dep, info in report.items():\n",
    "        info = info.values()\n",
    "        print(format_str.format(dep, *info))\n",
    "\n",
    "\n",
    "def save_report(report: Dict[str, Dict[str, int]], filename: str, **csv_options) -> None:\n",
    "    if len(report) == 0:\n",
    "        return\n",
    "\n",
    "    header = list(report.values())[0].keys()\n",
    "    data_to_save = [list(header)]\n",
    "\n",
    "    for dep, info in report.items():\n",
    "        df_row = [dep] + list(info.values())\n",
    "        data_to_save.append(df_row)\n",
    "\n",
    "    write_csv(filename, data_to_save, **csv_options)"
   ],
   "metadata": {
    "collapsed": false,
    "pycharm": {
     "name": "#%%\n"
    }
   }
  },
  {
   "cell_type": "code",
   "execution_count": 16,
   "outputs": [],
   "source": [
    "filename = 'Corp_Summary.csv'\n",
    "df = read_csv(filename, delimiter=';')\n",
    "header, df = split_df(df)\n",
    "convert_types(df, (str, str, str, str, float, int))"
   ],
   "metadata": {
    "collapsed": false,
    "pycharm": {
     "name": "#%%\n"
    }
   }
  },
  {
   "cell_type": "code",
   "execution_count": 31,
   "outputs": [
    {
     "name": "stdout",
     "output_type": "stream",
     "text": [
      "Разработка: Внутренний портал\n",
      "            Основной продукт\n",
      "            Платформа\n",
      "Маркетинг: Performance\n",
      "           Direct\n",
      "Бухгалтерия: Компенсации и льготы\n",
      "             Зарплата\n",
      "Аналитика: DWH\n",
      "           Product\n",
      "Продажи: Госы\n",
      "         B2B\n",
      "         B2C\n"
     ]
    }
   ],
   "source": [
    "departments_and_teams = dict()\n",
    "dep_ind = header['Департамент']\n",
    "team_ind = header['Отдел']\n",
    "\n",
    "for df_row in df:\n",
    "    department = df_row[dep_ind]\n",
    "    team = df_row[team_ind]\n",
    "\n",
    "    if departments_and_teams.get(department) is None:\n",
    "        departments_and_teams[department] = set()\n",
    "\n",
    "    if team not in departments_and_teams[department]:\n",
    "        departments_and_teams[department].add(team)\n",
    "\n",
    "for department, teams in departments_and_teams.items():\n",
    "    print(department, end=': ')\n",
    "\n",
    "    for i, team in enumerate(teams):\n",
    "        if i == 0:\n",
    "            print(team)\n",
    "        else:\n",
    "            print(' ' * (len(department)+1), team)"
   ],
   "metadata": {
    "collapsed": false,
    "pycharm": {
     "name": "#%%\n"
    }
   }
  },
  {
   "cell_type": "code",
   "execution_count": 33,
   "outputs": [
    {
     "name": "stdout",
     "output_type": "stream",
     "text": [
      "{'Разработка': {'count': 47, 'min': 56000, 'max': 124900, 'avg': 91891.48936170213}, 'Маркетинг': {'count': 38, 'min': 55500, 'max': 124300, 'avg': 94202.63157894737}, 'Бухгалтерия': {'count': 41, 'min': 56100, 'max': 124900, 'avg': 92941.46341463414}, 'Аналитика': {'count': 34, 'min': 55200, 'max': 122800, 'avg': 89008.82352941176}, 'Продажи': {'count': 40, 'min': 55700, 'max': 122100, 'avg': 89307.5}}\n"
     ]
    }
   ],
   "source": [
    "# Dict[str, Dict[str, int]]\n",
    "departments_and_info = dict()\n",
    "dep_ind = header['Департамент']\n",
    "salary_ind = header['Оклад']\n",
    "def_info = {'count': 0,\n",
    "            'min': float('inf'),\n",
    "            'max': float('-inf'),\n",
    "            'avg': 0}\n",
    "\n",
    "for df_row in df:\n",
    "    department = df_row[dep_ind]\n",
    "    salary = df_row[salary_ind]\n",
    "\n",
    "    if departments_and_info.get(department) is None:\n",
    "        departments_and_info[department] = def_info.copy()\n",
    "\n",
    "    departments_and_info[department]['count'] += 1\n",
    "    departments_and_info[department]['avg'] += salary\n",
    "    departments_and_info[department]['min'] = \\\n",
    "        min(salary, departments_and_info[department]['min'])\n",
    "    departments_and_info[department]['max'] = \\\n",
    "        max(salary, departments_and_info[department]['max'])\n",
    "\n",
    "for department in departments_and_info.keys():\n",
    "    dep_size = departments_and_info[department]['count']\n",
    "    departments_and_info[department]['avg'] /= dep_size\n",
    "\n",
    "print(departments_and_info)"
   ],
   "metadata": {
    "collapsed": false,
    "pycharm": {
     "name": "#%%\n"
    }
   }
  },
  {
   "cell_type": "code",
   "execution_count": 51,
   "outputs": [
    {
     "name": "stdout",
     "output_type": "stream",
     "text": [
      "Department                       count    min              max              avg             \n",
      "Разработка                       47       56000            124900           91891.5\n",
      "Маркетинг                        38       55500            124300           94202.6\n",
      "Бухгалтерия                      41       56100            124900           92941.5\n",
      "Аналитика                        34       55200            122800           89008.8\n",
      "Продажи                          40       55700            122100           89307.5\n"
     ]
    }
   ],
   "source": [
    "report = departments_and_info\n",
    "header = list(report.values())[0].keys()\n",
    "header_format_str = '{:<32} {:<8} {:<16} {:<16} {:<16}'\n",
    "format_str = '{:<32} {:<8} {:<16} {:<16} {:.1f}'\n",
    "\n",
    "print(header_format_str.format('Department', *header))\n",
    "for dep, info in report.items():\n",
    "    info = info.values()\n",
    "    print(format_str.format(dep, *info))"
   ],
   "metadata": {
    "collapsed": false,
    "pycharm": {
     "name": "#%%\n"
    }
   }
  }
 ],
 "metadata": {
  "kernelspec": {
   "display_name": "Python 3",
   "language": "python",
   "name": "python3"
  },
  "language_info": {
   "codemirror_mode": {
    "name": "ipython",
    "version": 2
   },
   "file_extension": ".py",
   "mimetype": "text/x-python",
   "name": "python",
   "nbconvert_exporter": "python",
   "pygments_lexer": "ipython2",
   "version": "2.7.6"
  }
 },
 "nbformat": 4,
 "nbformat_minor": 0
}